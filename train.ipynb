{
 "cells": [
  {
   "cell_type": "code",
   "execution_count": 1,
   "id": "63c371fd",
   "metadata": {},
   "outputs": [],
   "source": [
    "#importing necessary libraries\n",
    "from tabulate import tabulate\n",
    "from datetime import datetime"
   ]
  },
  {
   "cell_type": "code",
   "execution_count": 2,
   "id": "2055ac9a",
   "metadata": {},
   "outputs": [],
   "source": [
    "def current_time():\n",
    "    now = datetime.now()\n",
    "    current_h = int(now.strftime(\"%H\"))\n",
    "    current_m = int(now.strftime(\"%M\"))\n",
    "\n",
    "#     print(\"Current Hour =\", current_h)\n",
    "#     print(\"Current Minute =\", current_m)\n",
    "\n",
    "    return current_h, current_m"
   ]
  },
  {
   "cell_type": "code",
   "execution_count": 3,
   "id": "49a14fcd",
   "metadata": {},
   "outputs": [
    {
     "data": {
      "text/plain": [
       "11"
      ]
     },
     "execution_count": 3,
     "metadata": {},
     "output_type": "execute_result"
    }
   ],
   "source": [
    "current_time()[0]"
   ]
  },
  {
   "cell_type": "code",
   "execution_count": 4,
   "id": "261d8119",
   "metadata": {},
   "outputs": [
    {
     "data": {
      "text/plain": [
       "48"
      ]
     },
     "execution_count": 4,
     "metadata": {},
     "output_type": "execute_result"
    }
   ],
   "source": [
    "current_time()[1]"
   ]
  },
  {
   "cell_type": "code",
   "execution_count": 5,
   "id": "5dbbd504",
   "metadata": {},
   "outputs": [],
   "source": [
    "class train:\n",
    "    \n",
    "    def __init__(self, tip, anlıkKonum, maksHız, genelBakımKm, genelBakımSüre, minBakımAralık, kazanç, toplamYol, kod, güzergah, düz_güzergah ,ters_güzergah, bakım_sonrası_km, current_location, speed, çıkış_saat, çıkış_dk, varış_saat, varış_dk):\n",
    "        self._tip = tip\n",
    "        self._anlıkKonum = anlıkKonum\n",
    "        self._maksHız = maksHız\n",
    "        self._genelBakımKm = genelBakımKm\n",
    "        self._genelBakımSüre = genelBakımSüre\n",
    "        self._minBakımAralık = minBakımAralık\n",
    "        self._kazanç = kazanç\n",
    "        self._toplamYol = toplamYol\n",
    "        self._kod = kod\n",
    "        self._güzergah = güzergah\n",
    "        self._düz_güzergah = düz_güzergah\n",
    "        self._ters_güzergah = ters_güzergah\n",
    "        self._bakım_sonrası_km = bakım_sonrası_km\n",
    "        self._current_location = current_location\n",
    "        self._speed = speed\n",
    "        self._çıkış_saat = çıkış_saat\n",
    "        self._çıkış_dk = çıkış_dk\n",
    "        self._varış_saat = varış_saat\n",
    "        self._varış_dk = varış_dk\n",
    "        \n",
    "#METHODS\n",
    "\n",
    "#setters\n",
    "\n",
    "    def set_anlık_konum(self, anlıkKonum):\n",
    "        self._anlıkKonum = anlıkKonum\n",
    "        \n",
    "    def set_güzergah(self, güzergah):\n",
    "        self._güzergah = güzergah \n",
    "        \n",
    "    def set_current_location(self, current_location):\n",
    "        self._current_location = current_location \n",
    "        \n",
    "    def set_speed(self, speed):\n",
    "        self._speed = speed\n",
    "        \n",
    "    def set_çıkış_saat(self, çıkış_saat):\n",
    "        self._çıkış_saat = çıkış_saat\n",
    "        \n",
    "    def set_çıkış_dk(self, çıkış_dk):\n",
    "        self._çıkış_dk = çıkış_dk\n",
    "        \n",
    "    def set_varış_saat(self, varış_saat):\n",
    "        self._varış_saat = varış_saat\n",
    "    \n",
    "    def set_varış_dk(self, varış_dk):\n",
    "        self._varış_dk = varış_dk\n",
    "\n",
    "#getters        \n",
    "        \n",
    "    def get_tip(self):\n",
    "        return self._tip\n",
    "\n",
    "    def get_anlıkKonum(self):\n",
    "        return self._anlıkKonum\n",
    "\n",
    "    def get_maksHız(self):\n",
    "        return self._maksHız\n",
    "    \n",
    "    def get_genelBakımKm(self):\n",
    "        return self._genelBakımKm\n",
    "    \n",
    "    def get_genelBakımSüre(self):\n",
    "        return self._genelBakımSüre\n",
    "    \n",
    "    def get_minBakımAralık(self):\n",
    "        return self._minBakımAralık\n",
    "    \n",
    "    def get_kazanç(self):\n",
    "        return self._kazanç\n",
    "    \n",
    "    def get_toplamYol(self):\n",
    "        return self._toplamYol\n",
    "    \n",
    "    def get_kod(self):\n",
    "        return self._kod\n",
    "    \n",
    "    def get_güzergah(self):\n",
    "        return self._güzergah\n",
    "    \n",
    "    def get_düz_güzergah(self):\n",
    "        return self._düz_güzergah\n",
    "\n",
    "    def get_ters_güzergah(self):\n",
    "        return self._ters_güzergah\n",
    "    \n",
    "    def get_bakım_sonrası_km(self):\n",
    "        return self._bakım_sonrası_km\n",
    "    \n",
    "    def get_speed(self):\n",
    "        return self._speed\n",
    "    \n",
    "    def get_current_location(self):\n",
    "        return self._current_location\n",
    "    \n",
    "    def get_çıkış_saat(self):\n",
    "        return self._çıkış_saat\n",
    "    \n",
    "    def get_çıkış_dk(self):\n",
    "        return self._çıkış_dk\n",
    "    \n",
    "    def get_varış_saat(self):\n",
    "        return self._varış_saat\n",
    "    \n",
    "    def get_varış_dk(self):\n",
    "        return self._varış_dk\n",
    "    \n",
    "    def bakım_sayaç_arttır(self, km):\n",
    "        self._bakım_sonrası_km += km\n"
   ]
  },
  {
   "cell_type": "code",
   "execution_count": 6,
   "id": "8ccb1fc8",
   "metadata": {},
   "outputs": [],
   "source": [
    "trains = {\"YükTreni\": {\n",
    "            \"tip\":\"YükTreni\",\n",
    "            \"minSefer\":1,\n",
    "            \"adet\": 0,\n",
    "            \"düz_güzergah\": \"G-L\",\n",
    "            \"ters_güzergah\": \"L-G\",\n",
    "            \"max_speed\": 75\n",
    "                        },\n",
    "          \"AnahatTreni\": {\n",
    "            \"tip\":\"AnahatTreni\",\n",
    "            \"minSefer\":1,\n",
    "            \"adet\": 0,\n",
    "            \"düz_güzergah\": \"N-P\",\n",
    "            \"ters_güzergah\": \"P-N\",\n",
    "            \"max_speed\": 100\n",
    "                      },\n",
    "          \"HızlıTren\": {\n",
    "            \"tip\":\"HızlıTren\",\n",
    "            \"minSefer\":2,\n",
    "            \"adet\": 0,\n",
    "            \"düz_güzergah\": \"A-O\",\n",
    "            \"ters_güzergah\": \"O-A\",\n",
    "            \"max_speed\":200\n",
    "                      }\n",
    "         }"
   ]
  },
  {
   "cell_type": "code",
   "execution_count": 7,
   "id": "393b57d4",
   "metadata": {},
   "outputs": [],
   "source": [
    "routes = {\"A-O\": {\n",
    "            \"A\":0,\n",
    "            \"B\":100,\n",
    "            \"C\":75,\n",
    "            \"D\":100,\n",
    "            \"E\":75,\n",
    "            \"F\":75,\n",
    "            \"O\":25\n",
    "            },\n",
    "          \"G-L\": {\n",
    "            \"G\":0,\n",
    "            \"H\":77,\n",
    "            \"I\":82,\n",
    "            \"F\":50,\n",
    "            \"J\":97,\n",
    "            \"K\":100,\n",
    "            \"L\":112\n",
    "            },\n",
    "           \"N-P\": {\n",
    "            \"N\":0,\n",
    "            \"K\":100,\n",
    "            \"P\":100,\n",
    "            \"R\":75,\n",
    "            \"D\":50,\n",
    "            \"S\":50,\n",
    "            \"P1\":75\n",
    "            },\n",
    "          \n",
    "            \"O-A\": {\n",
    "            \"O\": 0,\n",
    "            \"F\": 25,\n",
    "            \"E\": 75,\n",
    "            \"D\":75,\n",
    "            \"C\": 100,\n",
    "            \"B\":75,\n",
    "            \"A\": 100\n",
    "\n",
    "            },\n",
    "           \"P-N\": {\n",
    "            \"P1\":0,\n",
    "            \"S\":75,\n",
    "            \"D\":50,\n",
    "            \"R\":50,\n",
    "            \"P\":75,\n",
    "            \"K\":100, \n",
    "            \"N\":100\n",
    "            },\n",
    "          \"L-G\": {\n",
    "            \"L\": 0,\n",
    "            \"K\":112,\n",
    "            \"J\":100,\n",
    "            \"F\":97,\n",
    "            \"I\":50,\n",
    "            \"H\":82,  \n",
    "            \"G\":77\n",
    "            }\n",
    "         }\n"
   ]
  },
  {
   "cell_type": "code",
   "execution_count": 8,
   "id": "d3388675",
   "metadata": {},
   "outputs": [],
   "source": [
    "route_yt = [\"G\",\"H\",\"I\",\"F\",\"J\",\"K\",\"L\"]\n",
    "route_at = [\"N\",\"K\",\"P\",\"R\",\"D\",\"S\",\"P1\"]\n",
    "route_ht = [\"A\",\"B\",\"C\",\"D\",\"E\",\"F\",\"O\"]\n",
    "\n",
    "route_yt_reverse = [\"L\",\"K\",\"J\",\"F\",\"I\",\"H\",\"G\"]\n",
    "route_at_reverse = [\"P1\",\"S\",\"D\",\"R\",\"P\",\"K\",\"N\"]\n",
    "route_ht_reverse = [\"O\",\"F\",\"E\",\"D\",\"C\",\"B\",\"A\"]"
   ]
  },
  {
   "cell_type": "code",
   "execution_count": 9,
   "id": "2cc22f19",
   "metadata": {},
   "outputs": [
    {
     "name": "stdout",
     "output_type": "stream",
     "text": [
      "YükTreni adedi giriniz: 1\n",
      "1\n",
      "AnahatTreni adedi giriniz: 1\n",
      "1\n",
      "HızlıTren adedi giriniz: 2\n",
      "2\n"
     ]
    }
   ],
   "source": [
    "for i in trains.keys():\n",
    "    inpAdet = input(trains[i][\"tip\"] + \" adedi giriniz: \")\n",
    "    inpAdet = int(inpAdet)\n",
    "\n",
    "    while(inpAdet<trains[i][\"minSefer\"]):\n",
    "        print(\"Her gün minimum \" + str(trains[i][\"minSefer\"]) + \" adet \"+ trains[i][\"tip\"] + \" seferi olması zorunludur.\")\n",
    "        inpAdet = input(trains[i][\"tip\"] + \" adedi giriniz: \")\n",
    "        inpAdet = int(inpAdet)\n",
    "        \n",
    "    trains[i][\"adet\"] = inpAdet\n",
    "    print(trains[i][\"adet\"])"
   ]
  },
  {
   "cell_type": "code",
   "execution_count": 10,
   "id": "13810647",
   "metadata": {},
   "outputs": [
    {
     "name": "stdout",
     "output_type": "stream",
     "text": [
      "Kaç günlük sefer planlaması istiyorsunuz: 10\n"
     ]
    }
   ],
   "source": [
    "sefer_günü = input(\"Kaç günlük sefer planlaması istiyorsunuz: \")"
   ]
  },
  {
   "cell_type": "code",
   "execution_count": 11,
   "id": "62bc8d58",
   "metadata": {},
   "outputs": [],
   "source": [
    "yt_objects = []\n",
    "at_objects = []\n",
    "ht_objects = []\n",
    "\n",
    "for i in range(len(trains)):\n",
    "    k=1\n",
    "    if i==0:\n",
    "        \n",
    "        for m in range(trains[\"YükTreni\"][\"adet\"]):\n",
    "                            \n",
    "            if m<9: \n",
    "                kod_temp = \"YT-0\"+str(m+1)\n",
    "            else:\n",
    "                kod_temp = \"YT-\"+str(m+1)\n",
    "                    #def __init__(self, tip, anlıkKonum, maksHız, genelBakımKm, genelBakımSüre, minBakımAralık, kazanç, toplamYol, kod, güzergah, düz_güzergah ,ters_güzergah, bakım_sonrası_km, current_location, speed, çıkış_saat, çıkış_dk, varış_saat, varış_dk):\n",
    "            \n",
    "            yt_objects.append(train(\"YükTreni\", route_yt[0], trains[\"YükTreni\"][\"max_speed\"], 3000, 36*60, 3*60, 50000, 0, kod_temp, trains[\"YükTreni\"][\"düz_güzergah\"], trains[\"YükTreni\"][\"düz_güzergah\"], trains[\"YükTreni\"][\"ters_güzergah\"], 0, \"G\", 75, current_time()[0], current_time()[1], 0, 0))\n",
    "            \n",
    "           \n",
    "    elif i==1:\n",
    "        \n",
    "        for m in range(trains[\"AnahatTreni\"][\"adet\"]):\n",
    "            if m<9: \n",
    "                kod_temp = \"AT-0\"+str(m+1)\n",
    "            else:\n",
    "                kod_temp = \"AT-\"+str(m+1)\n",
    "                \n",
    "            at_objects.append(train(\"AnahatTreni\", route_at[0], trains[\"AnahatTreni\"][\"max_speed\"], 2500, 24*60, 4*60, 45000, 0, kod_temp, trains[\"AnahatTreni\"][\"düz_güzergah\"], trains[\"AnahatTreni\"][\"düz_güzergah\"], trains[\"AnahatTreni\"][\"ters_güzergah\"], 0, \"N\", 100, current_time()[0], current_time()[1], 0, 0))\n",
    "        \n",
    "    elif i==2:\n",
    "        \n",
    "        for m in range(trains[\"HızlıTren\"][\"adet\"]):\n",
    "            if m<9: \n",
    "                kod_temp = \"HT-0\"+str(m+1)\n",
    "            else:\n",
    "                kod_temp = \"HT-\"+str(m+1)\n",
    "                \n",
    "            ht_objects.append(train(\"HızlıTren\", route_ht[0], trains[\"HızlıTren\"][\"max_speed\"], 6000, 12*60, 2*60, 60000, 0, kod_temp, trains[\"HızlıTren\"][\"düz_güzergah\"], trains[\"HızlıTren\"][\"düz_güzergah\"], trains[\"HızlıTren\"][\"ters_güzergah\"], 0, \"A\", 200, current_time()[0], current_time()[1], 0, 0))\n",
    "    \n",
    "    "
   ]
  },
  {
   "cell_type": "code",
   "execution_count": 12,
   "id": "ad3badeb",
   "metadata": {},
   "outputs": [
    {
     "data": {
      "text/plain": [
       "'L-G'"
      ]
     },
     "execution_count": 12,
     "metadata": {},
     "output_type": "execute_result"
    }
   ],
   "source": [
    "trains[\"YükTreni\"][\"ters_güzergah\"]"
   ]
  },
  {
   "cell_type": "code",
   "execution_count": 13,
   "id": "8559d79d",
   "metadata": {},
   "outputs": [
    {
     "name": "stdout",
     "output_type": "stream",
     "text": [
      "0\n"
     ]
    }
   ],
   "source": [
    "print(routes[yt_objects[0].get_güzergah()][yt_objects[0].get_current_location()])"
   ]
  },
  {
   "cell_type": "code",
   "execution_count": 14,
   "id": "4dc6f61f",
   "metadata": {},
   "outputs": [
    {
     "data": {
      "text/plain": [
       "'G-L'"
      ]
     },
     "execution_count": 14,
     "metadata": {},
     "output_type": "execute_result"
    }
   ],
   "source": [
    "yt_objects[0].get_güzergah()"
   ]
  },
  {
   "cell_type": "code",
   "execution_count": 15,
   "id": "95be0c1d",
   "metadata": {},
   "outputs": [
    {
     "data": {
      "text/plain": [
       "'G'"
      ]
     },
     "execution_count": 15,
     "metadata": {},
     "output_type": "execute_result"
    }
   ],
   "source": [
    "yt_objects[0].get_current_location()"
   ]
  },
  {
   "cell_type": "code",
   "execution_count": 16,
   "id": "0d2e104e",
   "metadata": {},
   "outputs": [
    {
     "data": {
      "text/plain": [
       "48"
      ]
     },
     "execution_count": 16,
     "metadata": {},
     "output_type": "execute_result"
    }
   ],
   "source": [
    "yt_objects[0].get_çıkış_dk()"
   ]
  },
  {
   "cell_type": "code",
   "execution_count": 37,
   "id": "bebe24b5",
   "metadata": {},
   "outputs": [],
   "source": [
    "def route_plan(x):\n",
    "    \n",
    "    location_plan = []\n",
    "    duration = []\n",
    "    varış_saat_list = []\n",
    "    varış_dk_list = []\n",
    "    varış_saat_list.append(0)\n",
    "    varış_saat_list.append(0)\n",
    "    çıkış_saat_list = []\n",
    "    çıkış_dk_list = []\n",
    "    current_h = current_time()[0]\n",
    "    current_m = current_time()[1]\n",
    "#     çıkış_saat_list.append(current_h)\n",
    "#     çıkış_dk_list.append(current_m)\n",
    "    \n",
    "    \n",
    "    for j in range(len(x)):\n",
    "        \n",
    "        x[j].set_çıkış_saat(current_h)\n",
    "        x[j].set_çıkış_dk(current_m)\n",
    "        \n",
    "        if x[j].get_tip()==\"YükTreni\":\n",
    "            \n",
    "            güzergah = x[j].get_güzergah()\n",
    "            print(\"girdi_1\")\n",
    "            for i in range(1,7):\n",
    "                x[j].set_current_location(route_yt[i])\n",
    "                location_plan.append(route_yt[i])\n",
    "                print(x[j].get_current_location())\n",
    "                location = x[j].get_current_location()\n",
    "                km = routes[güzergah][location]\n",
    "                geçen_süre = km*60/x[j].get_speed()\n",
    "                duration.append(geçen_süre)\n",
    "                print(geçen_süre)\n",
    "                çıkış_saati = x[j].get_çıkış_saat()\n",
    "                çıkış_dksı = x[j].get_çıkış_dk()\n",
    "                varış_saati = çıkış_saati\n",
    "                varış_dksı = çıkış_dksı\n",
    "                if geçen_süre<60:\n",
    "                    print(\"girdi_2\")\n",
    "                    varış_dksı = çıkış_dksı+geçen_süre\n",
    "                    varış_saati = çıkış_saati\n",
    "                    varış_saat_list.append(varış_saati)\n",
    "                    varış_dk_list.append(varış_dksı)\n",
    "#                     x[j].set_varış_saat(varış_saati)\n",
    "                    if varış_dksı>60:\n",
    "                        print(\"girdi_3\")\n",
    "                        varış_saati+=1\n",
    "                        varış_dksı=geçen_süre-60\n",
    "                        varış_saat_list.append(varış_saati)\n",
    "                        varış_dk_list.append(varış_dksı)\n",
    "#                         x[j].set_varış_saat(varış_saati)\n",
    "                            \n",
    "#                         x[j].set_varış_dk(varış_dksı)\n",
    "                    else:\n",
    "                        print(\"girdi_4\")\n",
    "                        varış_dksı=varış_dksı+geçen_süre\n",
    "#                         x[j].set_varış_dk(varış_dksı)\n",
    "                        varış_saat_list.append(varış_saati)\n",
    "                        varış_dk_list.append(varış_dksı)\n",
    "                elif geçen_süre==60:\n",
    "                    print(\"girdi_5\")\n",
    "                    varış_saati+=çıkış_saati+1\n",
    "#                     x[j].set_varış_saat(varış_saati)\n",
    "                    varış_saat_list.append(varış_saati)\n",
    "                    varış_dk_list.append(varış_dksı)\n",
    "                    \n",
    "                elif geçen_süre>60:\n",
    "                    print(\"girdi_6\")\n",
    "                    varış_saati+=çıkış_saati+1\n",
    "#                     x[j].set_varış_saat(varış_saati)\n",
    "                    varış_dksı = çıkış_dksı+geçen_süre-60\n",
    "#                     x[j].set_varış_dk(varış_dksı)\n",
    "                    varış_saat_list.append(varış_saati)\n",
    "                    varış_dk_list.append(varış_dksı)\n",
    "                    if varış_dksı>60:\n",
    "                        print(\"girdi_7\")\n",
    "                        varış_saati+=1\n",
    "#                         x[j].set_varış_saat(varış_saati)\n",
    "                        varış_dksı=varış_dksı-60\n",
    "#                         x[j].set_varış_dk(varış_dksı)\n",
    "                        varış_saat_list.append(varış_saati)\n",
    "                        varış_dk_list.append(varış_dksı)\n",
    "                    else:\n",
    "                        print(\"girdi_8\")\n",
    "                        varış_dksı=varış_dksı+geçen_süre-60\n",
    "                        varış_saat_list.append(varış_saati)\n",
    "                        varış_dk_list.append(varış_dksı)\n",
    "#                         x[j].set_varış_dk(varış_dksı)\n",
    "    \n",
    "    return x, location_plan, duration, varış_saat_list, varış_dk_list"
   ]
  },
  {
   "cell_type": "code",
   "execution_count": 27,
   "id": "ac229bac",
   "metadata": {},
   "outputs": [
    {
     "name": "stdout",
     "output_type": "stream",
     "text": [
      "girdi_1\n",
      "H\n",
      "65.6\n",
      "girdi_6\n",
      "girdi_8\n",
      "I\n",
      "40.0\n",
      "girdi_2\n",
      "girdi_4\n",
      "F\n",
      "77.6\n",
      "girdi_6\n",
      "girdi_8\n",
      "J\n",
      "80.0\n",
      "girdi_6\n",
      "girdi_8\n",
      "K\n",
      "89.6\n",
      "girdi_6\n",
      "girdi_8\n",
      "L\n",
      "0.0\n",
      "girdi_2\n",
      "girdi_4\n"
     ]
    }
   ],
   "source": [
    "yt_objects, location_plan, duration, varış_saat_list, varış_dk_list = route_plan(yt_objects)"
   ]
  },
  {
   "cell_type": "code",
   "execution_count": 20,
   "id": "8d41f5e3",
   "metadata": {},
   "outputs": [
    {
     "data": {
      "text/plain": [
       "'L'"
      ]
     },
     "execution_count": 20,
     "metadata": {},
     "output_type": "execute_result"
    }
   ],
   "source": [
    "yt_objects[0].get_current_location()"
   ]
  },
  {
   "cell_type": "code",
   "execution_count": 38,
   "id": "3ef107d4",
   "metadata": {},
   "outputs": [],
   "source": [
    "def output(x):\n",
    "    sefer = []\n",
    "    tüm_seferler = []\n",
    "    sefer_count = 0 \n",
    "    for i in range(len(x)):\n",
    "\n",
    "        print(\"*******************************\")\n",
    "        print(\"Sefer Adı   \" + x[i].get_kod() +\" \"+  x[i].get_güzergah() +\" Güzergahı\")\n",
    "        print(\"*******************************\")\n",
    "        print()\n",
    "        \n",
    "        \n",
    "        temp_routes = list(routes[x[i].get_güzergah()].keys())\n",
    "        temp_km = list(routes[x[i].get_güzergah()].values())\n",
    "        \n",
    "        \n",
    "        for m in range(3):\n",
    "            for l in range(len(temp_routes)):\n",
    "                sefer.append([temp_routes[l], temp_km[l], x[i].get_maksHız(), str(varış_saat_list[l])+\":\"+str(varış_dk_list[l]), str(x[i].get_çıkış_saat())+\":\"+str(x[i].get_çıkış_dk()), 0])\n",
    "                \n",
    "            if m%2==0:\n",
    "                x[i].set_güzergah(trains[x[i].get_tip()][\"ters_güzergah\"])\n",
    "                temp_routes = list(routes[x[i].get_güzergah()].keys())\n",
    "                temp_km = list(routes[x[i].get_güzergah()].values())\n",
    "#                 routes[x[i].get_güzergah()][x[i].get_current_location()]\n",
    "\n",
    "\n",
    "            else:\n",
    "                x[i].set_güzergah(trains[x[i].get_tip()][\"düz_güzergah\"])\n",
    "                temp_routes = list(routes[x[i].get_güzergah()].keys())\n",
    "                temp_km = list(routes[x[i].get_güzergah()].values())\n",
    "            \n",
    "#                 x[i].set_current_location(temp_routes[l])\n",
    "                \n",
    "            tüm_seferler.append(sefer)\n",
    "            sefer = []\n",
    "        \n",
    "        for k in range(len(tüm_seferler)):\n",
    "            \n",
    "            print(\"Gün 1-Sefer \" + str(k+1) + \" Bakımdan Sonra Toplam Katedilen KM: \" + str(x[i].get_bakım_sonrası_km()))\n",
    "            \n",
    "#                  and x[i].get_kod()==x[i-1].get_kod()\n",
    "            if x[i].get_tip()==\"YükTreni\":\n",
    "                x[i].bakım_sayaç_arttır(518)\n",
    "            elif x[i].get_tip()==\"AnahatTreni\":\n",
    "                x[i].bakım_sayaç_arttır(450)\n",
    "            elif x[i].get_tip()==\"HızlıTren\":\n",
    "                x[i].bakım_sayaç_arttır(450)      \n",
    "            print(\"*****************************************************\")\n",
    "            print(tabulate(tüm_seferler[k], headers=[\"İstasyon\", \"Kaçıncı KM\", \"Ortalama Hız\",\"Varış\",\"Çıkış\",\"Bekleme Süresi\"]))\n",
    "            print(\"\\n\\n\")\n",
    "        tüm_seferler=[]\n",
    "            \n",
    "            \n",
    "        "
   ]
  },
  {
   "cell_type": "code",
   "execution_count": 39,
   "id": "0efaa646",
   "metadata": {
    "scrolled": true
   },
   "outputs": [
    {
     "name": "stdout",
     "output_type": "stream",
     "text": [
      "*******************************\n",
      "Sefer Adı   YT-01 L-G Güzergahı\n",
      "*******************************\n",
      "\n",
      "Gün 1-Sefer 1 Bakımdan Sonra Toplam Katedilen KM: 4662\n",
      "*****************************************************\n",
      "İstasyon      Kaçıncı KM    Ortalama Hız  Varış                  Çıkış      Bekleme Süresi\n",
      "----------  ------------  --------------  ---------------------  -------  ----------------\n",
      "L                      0              75  25:5.599999999999994   12:0                    0\n",
      "K                    112              75  25:11.199999999999989  12:0                    0\n",
      "J                    100              75  12:40.0                12:0                    0\n",
      "F                     97              75  12:80.0                12:0                    0\n",
      "I                     50              75  25:17.599999999999994  12:0                    0\n",
      "H                     82              75  25:35.19999999999999   12:0                    0\n",
      "G                     77              75  25:20.0                12:0                    0\n",
      "\n",
      "\n",
      "\n",
      "Gün 1-Sefer 2 Bakımdan Sonra Toplam Katedilen KM: 5180\n",
      "*****************************************************\n",
      "İstasyon      Kaçıncı KM    Ortalama Hız  Varış                  Çıkış      Bekleme Süresi\n",
      "----------  ------------  --------------  ---------------------  -------  ----------------\n",
      "L                      0              75  25:5.599999999999994   12:0                    0\n",
      "K                    112              75  25:11.199999999999989  12:0                    0\n",
      "J                    100              75  12:40.0                12:0                    0\n",
      "F                     97              75  12:80.0                12:0                    0\n",
      "I                     50              75  25:17.599999999999994  12:0                    0\n",
      "H                     82              75  25:35.19999999999999   12:0                    0\n",
      "G                     77              75  25:20.0                12:0                    0\n",
      "\n",
      "\n",
      "\n",
      "Gün 1-Sefer 3 Bakımdan Sonra Toplam Katedilen KM: 5698\n",
      "*****************************************************\n",
      "İstasyon      Kaçıncı KM    Ortalama Hız  Varış                  Çıkış      Bekleme Süresi\n",
      "----------  ------------  --------------  ---------------------  -------  ----------------\n",
      "G                      0              75  25:5.599999999999994   12:0                    0\n",
      "H                     77              75  25:11.199999999999989  12:0                    0\n",
      "I                     82              75  12:40.0                12:0                    0\n",
      "F                     50              75  12:80.0                12:0                    0\n",
      "J                     97              75  25:17.599999999999994  12:0                    0\n",
      "K                    100              75  25:35.19999999999999   12:0                    0\n",
      "L                    112              75  25:20.0                12:0                    0\n",
      "\n",
      "\n",
      "\n"
     ]
    }
   ],
   "source": [
    "output(yt_objects)"
   ]
  },
  {
   "cell_type": "code",
   "execution_count": 40,
   "id": "f20156f4",
   "metadata": {},
   "outputs": [
    {
     "name": "stdout",
     "output_type": "stream",
     "text": [
      "*******************************\n",
      "Sefer Adı   AT-01 P-N Güzergahı\n",
      "*******************************\n",
      "\n",
      "Gün 1-Sefer 1 Bakımdan Sonra Toplam Katedilen KM: 1350\n",
      "*****************************************************\n",
      "İstasyon      Kaçıncı KM    Ortalama Hız  Varış                  Çıkış      Bekleme Süresi\n",
      "----------  ------------  --------------  ---------------------  -------  ----------------\n",
      "P1                     0             100  25:5.599999999999994   11:48                   0\n",
      "S                     75             100  25:11.199999999999989  11:48                   0\n",
      "D                     50             100  12:40.0                11:48                   0\n",
      "R                     50             100  12:80.0                11:48                   0\n",
      "P                     75             100  25:17.599999999999994  11:48                   0\n",
      "K                    100             100  25:35.19999999999999   11:48                   0\n",
      "N                    100             100  25:20.0                11:48                   0\n",
      "\n",
      "\n",
      "\n",
      "Gün 1-Sefer 2 Bakımdan Sonra Toplam Katedilen KM: 1800\n",
      "*****************************************************\n",
      "İstasyon      Kaçıncı KM    Ortalama Hız  Varış                  Çıkış      Bekleme Süresi\n",
      "----------  ------------  --------------  ---------------------  -------  ----------------\n",
      "P1                     0             100  25:5.599999999999994   11:48                   0\n",
      "S                     75             100  25:11.199999999999989  11:48                   0\n",
      "D                     50             100  12:40.0                11:48                   0\n",
      "R                     50             100  12:80.0                11:48                   0\n",
      "P                     75             100  25:17.599999999999994  11:48                   0\n",
      "K                    100             100  25:35.19999999999999   11:48                   0\n",
      "N                    100             100  25:20.0                11:48                   0\n",
      "\n",
      "\n",
      "\n",
      "Gün 1-Sefer 3 Bakımdan Sonra Toplam Katedilen KM: 2250\n",
      "*****************************************************\n",
      "İstasyon      Kaçıncı KM    Ortalama Hız  Varış                  Çıkış      Bekleme Süresi\n",
      "----------  ------------  --------------  ---------------------  -------  ----------------\n",
      "N                      0             100  25:5.599999999999994   11:48                   0\n",
      "K                    100             100  25:11.199999999999989  11:48                   0\n",
      "P                    100             100  12:40.0                11:48                   0\n",
      "R                     75             100  12:80.0                11:48                   0\n",
      "D                     50             100  25:17.599999999999994  11:48                   0\n",
      "S                     50             100  25:35.19999999999999   11:48                   0\n",
      "P1                    75             100  25:20.0                11:48                   0\n",
      "\n",
      "\n",
      "\n"
     ]
    }
   ],
   "source": [
    "output(at_objects)"
   ]
  },
  {
   "cell_type": "code",
   "execution_count": 41,
   "id": "1e9e3cfe",
   "metadata": {},
   "outputs": [
    {
     "name": "stdout",
     "output_type": "stream",
     "text": [
      "*******************************\n",
      "Sefer Adı   HT-01 O-A Güzergahı\n",
      "*******************************\n",
      "\n",
      "Gün 1-Sefer 1 Bakımdan Sonra Toplam Katedilen KM: 1350\n",
      "*****************************************************\n",
      "İstasyon      Kaçıncı KM    Ortalama Hız  Varış                  Çıkış      Bekleme Süresi\n",
      "----------  ------------  --------------  ---------------------  -------  ----------------\n",
      "O                      0             200  25:5.599999999999994   11:48                   0\n",
      "F                     25             200  25:11.199999999999989  11:48                   0\n",
      "E                     75             200  12:40.0                11:48                   0\n",
      "D                     75             200  12:80.0                11:48                   0\n",
      "C                    100             200  25:17.599999999999994  11:48                   0\n",
      "B                     75             200  25:35.19999999999999   11:48                   0\n",
      "A                    100             200  25:20.0                11:48                   0\n",
      "\n",
      "\n",
      "\n",
      "Gün 1-Sefer 2 Bakımdan Sonra Toplam Katedilen KM: 1800\n",
      "*****************************************************\n",
      "İstasyon      Kaçıncı KM    Ortalama Hız  Varış                  Çıkış      Bekleme Süresi\n",
      "----------  ------------  --------------  ---------------------  -------  ----------------\n",
      "O                      0             200  25:5.599999999999994   11:48                   0\n",
      "F                     25             200  25:11.199999999999989  11:48                   0\n",
      "E                     75             200  12:40.0                11:48                   0\n",
      "D                     75             200  12:80.0                11:48                   0\n",
      "C                    100             200  25:17.599999999999994  11:48                   0\n",
      "B                     75             200  25:35.19999999999999   11:48                   0\n",
      "A                    100             200  25:20.0                11:48                   0\n",
      "\n",
      "\n",
      "\n",
      "Gün 1-Sefer 3 Bakımdan Sonra Toplam Katedilen KM: 2250\n",
      "*****************************************************\n",
      "İstasyon      Kaçıncı KM    Ortalama Hız  Varış                  Çıkış      Bekleme Süresi\n",
      "----------  ------------  --------------  ---------------------  -------  ----------------\n",
      "A                      0             200  25:5.599999999999994   11:48                   0\n",
      "B                    100             200  25:11.199999999999989  11:48                   0\n",
      "C                     75             200  12:40.0                11:48                   0\n",
      "D                    100             200  12:80.0                11:48                   0\n",
      "E                     75             200  25:17.599999999999994  11:48                   0\n",
      "F                     75             200  25:35.19999999999999   11:48                   0\n",
      "O                     25             200  25:20.0                11:48                   0\n",
      "\n",
      "\n",
      "\n",
      "*******************************\n",
      "Sefer Adı   HT-02 O-A Güzergahı\n",
      "*******************************\n",
      "\n",
      "Gün 1-Sefer 1 Bakımdan Sonra Toplam Katedilen KM: 1350\n",
      "*****************************************************\n",
      "İstasyon      Kaçıncı KM    Ortalama Hız  Varış                  Çıkış      Bekleme Süresi\n",
      "----------  ------------  --------------  ---------------------  -------  ----------------\n",
      "O                      0             200  25:5.599999999999994   11:48                   0\n",
      "F                     25             200  25:11.199999999999989  11:48                   0\n",
      "E                     75             200  12:40.0                11:48                   0\n",
      "D                     75             200  12:80.0                11:48                   0\n",
      "C                    100             200  25:17.599999999999994  11:48                   0\n",
      "B                     75             200  25:35.19999999999999   11:48                   0\n",
      "A                    100             200  25:20.0                11:48                   0\n",
      "\n",
      "\n",
      "\n",
      "Gün 1-Sefer 2 Bakımdan Sonra Toplam Katedilen KM: 1800\n",
      "*****************************************************\n",
      "İstasyon      Kaçıncı KM    Ortalama Hız  Varış                  Çıkış      Bekleme Süresi\n",
      "----------  ------------  --------------  ---------------------  -------  ----------------\n",
      "O                      0             200  25:5.599999999999994   11:48                   0\n",
      "F                     25             200  25:11.199999999999989  11:48                   0\n",
      "E                     75             200  12:40.0                11:48                   0\n",
      "D                     75             200  12:80.0                11:48                   0\n",
      "C                    100             200  25:17.599999999999994  11:48                   0\n",
      "B                     75             200  25:35.19999999999999   11:48                   0\n",
      "A                    100             200  25:20.0                11:48                   0\n",
      "\n",
      "\n",
      "\n",
      "Gün 1-Sefer 3 Bakımdan Sonra Toplam Katedilen KM: 2250\n",
      "*****************************************************\n",
      "İstasyon      Kaçıncı KM    Ortalama Hız  Varış                  Çıkış      Bekleme Süresi\n",
      "----------  ------------  --------------  ---------------------  -------  ----------------\n",
      "A                      0             200  25:5.599999999999994   11:48                   0\n",
      "B                    100             200  25:11.199999999999989  11:48                   0\n",
      "C                     75             200  12:40.0                11:48                   0\n",
      "D                    100             200  12:80.0                11:48                   0\n",
      "E                     75             200  25:17.599999999999994  11:48                   0\n",
      "F                     75             200  25:35.19999999999999   11:48                   0\n",
      "O                     25             200  25:20.0                11:48                   0\n",
      "\n",
      "\n",
      "\n"
     ]
    }
   ],
   "source": [
    "output(ht_objects)"
   ]
  },
  {
   "cell_type": "code",
   "execution_count": 802,
   "id": "79a1eed8",
   "metadata": {},
   "outputs": [],
   "source": [
    "# yt_objects[0].set_güzergah(\"O-A\")"
   ]
  },
  {
   "cell_type": "code",
   "execution_count": 803,
   "id": "1ef6e092",
   "metadata": {},
   "outputs": [],
   "source": [
    "# output(yt_objects)"
   ]
  }
 ],
 "metadata": {
  "kernelspec": {
   "display_name": "Python 3",
   "language": "python",
   "name": "python3"
  },
  "language_info": {
   "codemirror_mode": {
    "name": "ipython",
    "version": 3
   },
   "file_extension": ".py",
   "mimetype": "text/x-python",
   "name": "python",
   "nbconvert_exporter": "python",
   "pygments_lexer": "ipython3",
   "version": "3.8.8"
  }
 },
 "nbformat": 4,
 "nbformat_minor": 5
}
